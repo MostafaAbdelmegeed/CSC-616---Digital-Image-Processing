{
 "cells": [
  {
   "cell_type": "code",
   "execution_count": 11,
   "metadata": {},
   "outputs": [],
   "source": [
    "import numpy as np\n",
    "from PIL import Image as im"
   ]
  },
  {
   "cell_type": "code",
   "execution_count": 12,
   "metadata": {},
   "outputs": [],
   "source": [
    "def read_binary_8bit_img_from_raw_data(filename, height, width):\n",
    "    # Returns a numpy 2D array of 8bit integers representing image pixels\n",
    "    # Open specified file\n",
    "    with open(filename, \"rb\") as f:\n",
    "        # Convert bytes read from file into a numpy array\n",
    "        img = np.frombuffer(f.read(), dtype=np.ubyte)\n",
    "        # This check is for images with some header, only raw bytes will be read, extra bytes will be sliced out\n",
    "        if img.size > height * width:\n",
    "            img = img[img.size-(height*width):]\n",
    "        img = (img/img.max())\n",
    "        return img.reshape((height, width)).astype(np.int32)\n",
    "\n",
    "def write_binary_8bit_img_to_raw_data(img, filename):\n",
    "    # Writes the argument numpy 2D array into a file by converting values into single bytes\n",
    "    # Open Specified file\n",
    "    img = img*255\n",
    "    with open(filename, \"wb\") as f:\n",
    "        # Write bytes into file\n",
    "        f.write(img.astype(np.ubyte).tobytes())\n",
    "        print(\"Image was written to {0}\".format(filename))\n",
    "        \n",
    "def read_8bit_img_from_raw_data(filename, height, width):\n",
    "    # Returns a numpy 2D array of 8bit integers representing image pixels\n",
    "    # Open specified file\n",
    "    with open(filename, \"rb\") as f:\n",
    "        # Convert bytes read from file into a numpy array\n",
    "        img = np.frombuffer(f.read(), dtype=np.ubyte)\n",
    "        # This check is for images with some header, only raw bytes will be read, extra bytes will be sliced out\n",
    "        if img.size > height * width:\n",
    "            img = img[img.size-(height*width):]\n",
    "        return img.reshape((height, width)).astype(np.int32)\n",
    "\n",
    "def write_8bit_img_to_raw_data(img, filename):\n",
    "    # Writes the argument numpy 2D array into a file by converting values into single bytes\n",
    "    # Open Specified file\n",
    "    with open(filename, \"wb\") as f:\n",
    "        # Write bytes into file\n",
    "        f.write(img.astype(np.ubyte).tobytes())\n",
    "        print(\"Image was written to {0}\".format(filename))\n",
    "        \n",
    "def pad(img, padding=2, mode='zeros'):\n",
    "    padded = np.zeros((img.shape[0]+padding*2, img.shape[1]+padding*2), dtype=np.ubyte)\n",
    "    for i in range(img.shape[0]):\n",
    "        for j in range(img.shape[1]):\n",
    "            padded[i+padding][j+padding] = img[i][j]\n",
    "    return padded\n",
    "\n",
    "def normalize(img, ceil=255):\n",
    "    # Returns a normalized version of the argument numpy 2D array\n",
    "    # Checks if the image is already normalized\n",
    "    if img.min() < 0 or img.max() > ceil:\n",
    "        # Copy the input image\n",
    "        normalized_img = img.copy().astype(np.float32)\n",
    "        # Subtract the minimum of the input image\n",
    "        normalized_img = normalized_img - img.min()\n",
    "        # Multiplication of ceil to the ratios of the image pixels with respect to the image maximum\n",
    "        normalized_img = (ceil * normalized_img / normalized_img.max())\n",
    "        assert(normalized_img.max() <= ceil)\n",
    "        return normalized_img.astype(np.int32)\n",
    "    else:\n",
    "        return img\n",
    "        \n",
    "def erode(img):\n",
    "    se = np.ones((3,3))\n",
    "    padded_img = pad(img, 1)\n",
    "    k_h,k_w = se.shape\n",
    "    i_h,i_w = img.shape\n",
    "    result = np.zeros_like(img)\n",
    "    for i in range(i_h):\n",
    "        for j in range(i_w):\n",
    "            row_start, row_end = i, i+k_h\n",
    "            col_start, col_end = j, j+k_w\n",
    "            result[i][j] = 1 if np.logical_and(padded_img[row_start:row_end, col_start:col_end], se).all() else 0\n",
    "    return result\n",
    "    \n",
    "def dilate(img):\n",
    "    se = np.ones((3,3))\n",
    "    padded_img = pad(img, 1)\n",
    "    k_h,k_w = se.shape\n",
    "    i_h,i_w = img.shape\n",
    "    result = np.zeros_like(img)\n",
    "    for i in range(i_h):\n",
    "        for j in range(i_w):\n",
    "            row_start, row_end = i, i+k_h\n",
    "            col_start, col_end = j, j+k_w\n",
    "            result[i][j] = 1 if np.logical_and(padded_img[row_start:row_end, col_start:col_end], se).any() else 0\n",
    "    return result\n",
    "\n",
    "def opening(img):\n",
    "    return dilate(erode(img))\n",
    "\n",
    "def closing(img):\n",
    "    return erode(dilate(img))\n",
    "\n",
    "\n",
    "def co_occurence(img, offset=(0,1)):\n",
    "    result = np.zeros((256,256))\n",
    "    x_offset = offset[0]\n",
    "    y_offset = offset[1]\n",
    "    for i in range(img.shape[0]-y_offset):\n",
    "        for j in range(img.shape[1]-x_offset):\n",
    "            result[img[i,j],img[i+y_offset,j+x_offset]] += 1\n",
    "    return result.astype(int)\n",
    "    \n",
    "    "
   ]
  },
  {
   "cell_type": "code",
   "execution_count": 13,
   "metadata": {},
   "outputs": [
    {
     "name": "stdout",
     "output_type": "stream",
     "text": [
      "Image was written to lincoln_boundary.raw\n"
     ]
    },
    {
     "data": {
      "image/png": "[encoded data removed]",
      "text/plain": [
       "<PIL.Image.Image image mode=L size=442x269>"
      ]
     },
     "execution_count": 13,
     "metadata": {},
     "output_type": "execute_result"
    }
   ],
   "source": [
    "lincoln = read_binary_8bit_img_from_raw_data('data/lincoln.raw', 269, 221)\n",
    "write_binary_8bit_img_to_raw_data(lincoln - erode(lincoln), 'lincoln_boundary.raw')\n",
    "lincoln_boundary =  read_binary_8bit_img_from_raw_data('lincoln_boundary.raw', 269, 221)\n",
    "im.fromarray(np.concatenate(((lincoln*255).astype(np.ubyte), (lincoln_boundary*255).astype(np.ubyte)), axis=1))"
   ]
  },
  {
   "cell_type": "code",
   "execution_count": 14,
   "metadata": {},
   "outputs": [
    {
     "name": "stdout",
     "output_type": "stream",
     "text": [
      "Image was written to cktboard_texture.raw\n"
     ]
    },
    {
     "data": {
      "image/png": "[encoded data removed]",
      "text/plain": [
       "<PIL.Image.Image image mode=L size=256x256>"
      ]
     },
     "execution_count": 14,
     "metadata": {},
     "output_type": "execute_result"
    }
   ],
   "source": [
    "cktboard = read_8bit_img_from_raw_data('data/cktboard.raw', 120, 365)\n",
    "cktboard_texture = co_occurence(cktboard, (1,0))*40\n",
    "write_8bit_img_to_raw_data(cktboard_texture, 'cktboard_texture.raw')\n",
    "cktboard_texture = read_8bit_img_from_raw_data('cktboard_texture.raw', 256, 256)\n",
    "im.fromarray(cktboard_texture.astype(np.ubyte))"
   ]
  },
  {
   "cell_type": "code",
   "execution_count": 15,
   "metadata": {},
   "outputs": [
    {
     "name": "stdout",
     "output_type": "stream",
     "text": [
      "Image was written to fingerprint_opening.raw\n",
      "Image was written to fingerprint_closing.raw\n"
     ]
    },
    {
     "data": {
      "image/png": "[encoded data removed]",
      "text/plain": [
       "<PIL.Image.Image image mode=L size=945x238>"
      ]
     },
     "execution_count": 15,
     "metadata": {},
     "output_type": "execute_result"
    }
   ],
   "source": [
    "finger_print = read_binary_8bit_img_from_raw_data('data/fingerprint.raw', 238, 315)\n",
    "write_binary_8bit_img_to_raw_data(opening(finger_print), 'fingerprint_opening.raw')\n",
    "write_binary_8bit_img_to_raw_data(closing(finger_print), 'fingerprint_closing.raw')\n",
    "finger_print_opened = read_binary_8bit_img_from_raw_data('fingerprint_opening.raw', 238, 315)\n",
    "finger_print_closed = read_binary_8bit_img_from_raw_data('fingerprint_closing.raw', 238, 315)\n",
    "im.fromarray(np.concatenate(((finger_print*255).astype(np.ubyte), (finger_print_opened*255).astype(np.ubyte), (finger_print_closed*255).astype(np.ubyte)), axis=1))"
   ]
  }
 ],
 "metadata": {
  "kernelspec": {
   "display_name": "Python 3",
   "language": "python",
   "name": "python3"
  },
  "language_info": {
   "codemirror_mode": {
    "name": "ipython",
    "version": 3
   },
   "file_extension": ".py",
   "mimetype": "text/x-python",
   "name": "python",
   "nbconvert_exporter": "python",
   "pygments_lexer": "ipython3",
   "version": "3.11.2"
  },
  "orig_nbformat": 4
 },
 "nbformat": 4,
 "nbformat_minor": 2
}
